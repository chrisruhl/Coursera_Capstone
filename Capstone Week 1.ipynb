{
 "cells": [
  {
   "cell_type": "markdown",
   "metadata": {},
   "source": [
    "# ProGym - New Faciliy near Phoenix, AZ\n",
    "\n",
    "ProGym is a fictional physical fitness and training company based in Los Angeles, CA.  The ProGym Business Model caters primarily to physicians and members of the professional medical community.  The ProGym management team has been growing the company steadilly since 2014 and believes that Phoenix, AZ is the best location for the next facility.\n",
    "\n",
    "DataHAX is a fictional Business Intellegence firm based in Tucson, AZ.  One of the core offerings by DataHAX is understanding business environments.  DataHAX mission is simple - we turn data into intelligence, and intelligence into success.  For almost 90 days we have been using our intelligence assets to help businesses win.\n"
   ]
  },
  {
   "cell_type": "markdown",
   "metadata": {},
   "source": [
    "## Business Challenge\n",
    "DataHAX has been hired by ProGym to help determine the best location for a new facility in the metro Phoenix area.  ProGym has a deep understanding of their highest value facilities and what makes them profitable and successful. From their most successful facilities, ProGym as developed a **Facility Profile**. ProGym understands their clientele very well and have developed a very specific **Client Profile** based on their business model.  The challenge for DataHAX will be to combine data about the Phoenix Metro Area with the ProGym **Client and Facility Profiles** to find the best location candidates."
   ]
  },
  {
   "cell_type": "markdown",
   "metadata": {},
   "source": [
    "## Stakeholders\n",
    "Interested parties for the ProGym-Phoenix project include the ProGym facilities team and the ProGym executive management team."
   ]
  },
  {
   "cell_type": "markdown",
   "metadata": {},
   "source": [
    "## The Data\n",
    "- FourSquare.com - Public venue information service:  https://developer.foursquare.com/docs/places-api/\n",
    "- US Census - Age/Sex/Education by ZIPcode for Arizona: https://data.census.gov - tables: S0101, S1501 and B19001\n",
    "- US Internal Revenue Service - Income Data by ZIPcode for Arizona: https://www.irs.gov/pub/irs-soi/17zp03az.xlsx\n",
    "- Zillow - Residential Home values by ZIPcode: http://files.zillowstatic.com/research/public_v2/zhvi/Zip_zhvi_uc_sfrcondo_tier_0.33_0.67_sm_sa_mon.csv"
   ]
  },
  {
   "cell_type": "markdown",
   "metadata": {},
   "source": [
    "### ProGym Facility Profile\n",
    "ProGym facilities located near hospitals, doctor's offices and other professional buildings have proven to be the most successful.  Additionally, ProGym has noted that locations in close proximity to fine dining establishments tend to sell more personal training services.  This correlation is strong enough to indicate that some weight should be given to proximity to fine dining.  \n",
    "- From the FourSquare.com Dataset API, will extract the following for each ZIPcode (to allow an analysis of the ProGym Facility Profile):\n",
    "  - Hospital Count\n",
    "  - Doctors office Count\n",
    "  - Fine Dining Restaurant Count"
   ]
  },
  {
   "cell_type": "markdown",
   "metadata": {},
   "source": [
    "### ProGym Client Profile\n",
    "ProGym clientle are primarily medical professionals.  This leads to the following demographics:  age, education level, income level, and others.\n",
    "\n",
    "Each dataset for this exploration consists of records indexed by a 5-digit ZIPcode. \n",
    "- From the US Census Dataset, will extract the following for each ZIPcode:\n",
    "  - Total age 35-55\n",
    "  - Age 35-55 with Bachleors Degree\n",
    "  - Age 35-55 with Bachleors Degree or higher\n",
    "  - Age 35-55 Professional Degree \n",
    "- From the Internal Revenue Service Dataset, income level for each ZIPcode will be added to the dataset\n",
    "- From Zillow Dataset, the current median home value will be added to the dataset\n",
    "\n",
    "- Each record in the new dataset will look like the following (to allow an analysis of the ProGym client profile):\n",
    "  - ZIP Code ( Index )\n",
    "  - Total age 35-55\n",
    "  - Age 35-55 with Bachelors Degree - count\n",
    "  - Age 35-55 with Bachelors Degree or higher - count\n",
    "  - Age 35-55 Professional Degree - count\n",
    "  - Median Income\n",
    "  - Median Home Value  "
   ]
  },
  {
   "cell_type": "markdown",
   "metadata": {},
   "source": [
    "## Data Wrangling\n",
    "The data for this evaluation come from several sources.  For analysis, each dataset needs to be cleaned up an normalized.  The following code produces Pandas DataFrames with a ZIP code index for each dataset."
   ]
  },
  {
   "cell_type": "code",
   "execution_count": 1,
   "metadata": {},
   "outputs": [],
   "source": [
    "import pandas as pd\n",
    "import numpy as np\n",
    "import folium\n",
    "import requests\n",
    "import pickle\n",
    "import time\n",
    "\n",
    "# All of our data will be relating to the postal codes (ZIP Codes) in Maricopa County (i.e. Phoenix Metro Area), AZ, USA\n",
    "maricopa_zips = [\"85004\",\"85007\",\"85545\",\"85006\",\"85009\",\"85008\",\"85011\",\"85013\",\"85012\",\"85015\",\"85014\",\"85017\",\"85016\",\"85019\",\"85018\",\"85021\",\"85020\",\"85023\",\"85022\",\"85024\",\"85027\",\"85026\",\"85029\",\"85028\",\"85031\",\"85033\",\"85032\",\"85035\",\"85034\",\"85037\",\"85286\",\"85036\",\"85083\",\"85038\",\"85190\",\"85041\",\"85040\",\"85043\",\"85042\",\"85045\",\"85044\",\"85048\",\"85392\",\"85395\",\"85295\",\"85051\",\"85298\",\"85050\",\"85054\",\"85053\",\"85064\",\"85067\",\"85085\",\"85082\",\"85087\",\"85086\",\"85098\",\"85202\",\"85201\",\"85204\",\"85203\",\"85206\",\"85205\",\"85208\",\"85207\",\"85210\",\"85209\",\"85212\",\"85213\",\"85215\",\"85219\",\"85224\",\"85226\",\"85225\",\"85233\",\"85234\",\"85236\",\"85244\",\"85249\",\"85248\",\"85251\",\"85250\",\"85253\",\"85252\",\"85255\",\"85254\",\"85257\",\"85256\",\"85259\",\"85258\",\"85261\",\"85260\",\"85263\",\"85262\",\"85266\",\"85264\",\"85268\",\"85274\",\"85282\",\"85281\",\"85284\",\"85283\",\"85287\",\"85118\",\"85297\",\"85296\",\"85301\",\"85142\",\"85303\",\"85139\",\"85302\",\"85305\",\"85304\",\"85307\",\"85306\",\"85308\",\"85310\",\"85320\",\"85322\",\"85323\",\"85326\",\"85327\",\"85331\",\"85329\",\"85333\",\"85335\",\"85337\",\"85339\",\"85338\",\"85340\",\"85343\",\"85342\",\"85345\",\"85351\",\"85353\",\"85355\",\"85354\",\"85358\",\"85361\",\"85363\",\"85373\",\"85375\",\"85374\",\"85377\",\"85379\",\"85378\",\"85381\",\"85383\",\"85382\",\"85387\",\"85385\",\"85390\",\"85388\",\"85396\",\"85001\",\"85003\",\"85002\"]"
   ]
  },
  {
   "cell_type": "markdown",
   "metadata": {},
   "source": [
    "## FourSquare API Setup"
   ]
  },
  {
   "cell_type": "code",
   "execution_count": 2,
   "metadata": {},
   "outputs": [],
   "source": [
    "# Define and download the wiki page\n",
    "CLIENT_ID = '5HPET1K2F5KSIMNIAOJSTRSQBWW3CO5YTVYI5UQDO0DACZLH' # your Foursquare ID\n",
    "CLIENT_SECRET = 'MDZZBZNLQ0XDHUCY43AVPJDXXYPYOKYFZKT4SYZRFSONU1S5' # your Foursquare Secret\n",
    "VERSION = '20180604'\n",
    "LIMIT = 50"
   ]
  },
  {
   "cell_type": "code",
   "execution_count": 3,
   "metadata": {},
   "outputs": [],
   "source": [
    "# A dict to hold values returned from the FourSquare API\n",
    "venue_dict = {} # This will be populated with arrays for each of 'venue_cols' \n",
    "venue_cols = [\"ZIP\", \"id\", \"Name\", \"Latitude\", \"Longitude\", \"Category\", \"Search\", \"Price Tier\", \"Rating\", \"Likes\"]\n",
    "\n",
    "# The FourSquare API returns many irrelivant categories - this is the sort list of categories in which we're interested\n",
    "keep_med_cats  = [\"Hospital\",\"Dentist's Office\",\"Doctor's Office\",\"Emergency Room\",\"Medical Center\"]\n",
    "keep_food_cats = [\"Restaurant\",\"Wine Bar\"]"
   ]
  },
  {
   "cell_type": "markdown",
   "metadata": {},
   "source": [
    "## Function to get and prep FourSquare Data\n",
    "This function reads from the FourSqure API and prepares a dictionary.\n",
    "\n",
    "The dictionary will be translated into a Pandas DataFrame later.\n",
    "\n",
    "This routine finds medical facilities for each zip code and restaurants in the 3-4 (more expensive) price range."
   ]
  },
  {
   "cell_type": "code",
   "execution_count": 4,
   "metadata": {},
   "outputs": [],
   "source": [
    "# Cached data - so we can limit premium API calls\n",
    "venue_dict = pickle.load(open(\"data/venues.pkl\", 'rb'))"
   ]
  },
  {
   "cell_type": "code",
   "execution_count": 5,
   "metadata": {},
   "outputs": [],
   "source": [
    "# This function takes a data dictionary, a list of zip codes, and a search query\n",
    "# Using the FourSquare REST API, we'll assemble of list of venues \n",
    "# the dataset is defined by 'venue_cols' defined above.  \n",
    "# Venues are stored in the dataset only if they match a category in 'keep_categories'\n",
    "# This is soooo much easier with the FourSquare Python API: https://pypi.org/project/foursquare/\n",
    "# \n",
    "\n",
    "def get_venues_by_zip(the_dict, zip_list, search_query):\n",
    "    \n",
    "    # Food and Medical have slightly different execution paths so, it's important\n",
    "    # to distinguish between the two query types\n",
    "    if search_query in [\"Hospital\", \"Doctor's Office\"]:\n",
    "        query_type = 'Medical'\n",
    "    elif search_query in ['Restaurant']:\n",
    "        query_type = 'Food'\n",
    "    else:\n",
    "        raise QuerryError\n",
    "\n",
    "    if the_dict == {}:  # Needs to be initialized!\n",
    "        the_dict = {x:[] for x in venue_cols}\n",
    "    \n",
    "    radius = 20000\n",
    "    LIMIT = 50\n",
    "    premium_calls = 0\n",
    "    duplicate_venue_hits = 0\n",
    "    unique_venue_hits = 0\n",
    "\n",
    "    for postal_code in zip_list:\n",
    "        \n",
    "        if query_type == 'Medical':\n",
    "            # Set the medical facility search url\n",
    "            url = 'https://api.foursquare.com/v2/venues/search?client_id={}&client_secret={}&near={}&v={}&query={}&limit={}&radius={}'.format(CLIENT_ID, CLIENT_SECRET, postal_code, VERSION, search_query, LIMIT, radius)\n",
    "        else:\n",
    "            # Set the Restaurant/Price Query\n",
    "            # FourSquare rates prices on a scale of 1-4, we're interested only in '3&4' level pricing\n",
    "            url = 'https://api.foursquare.com/v2/venues/explore?client_id={}&client_secret={}&near={}&v={}&query={}&limit={}&radius={}&price=3,4'.format(CLIENT_ID, CLIENT_SECRET, postal_code, VERSION, search_query, LIMIT, radius)\n",
    "\n",
    "        results = requests.get(url).json()\n",
    "        \n",
    "        if query_type == 'Medical':\n",
    "            try:\n",
    "                venues  = results['response']['venues'] \n",
    "            except KeyError:\n",
    "                continue  # We've got nothing to work with go to the next zip!\n",
    "        else:\n",
    "            try:\n",
    "                venues = []\n",
    "                match_list = results['response']['groups'][0]['items']\n",
    "                for match in match_list:\n",
    "                    venues.append(match['venue'])\n",
    "            except KeyError: # There are no venues that match this query, move along\n",
    "                continue\n",
    "        for venue in venues:    \n",
    "            if venue['id'] in the_dict['id']:  # We have a duplicate venue\n",
    "                duplicate_venue_hits += 1\n",
    "                continue\n",
    "            else:\n",
    "                unique_venue_hits += 1\n",
    "            \n",
    "            # Skip venues that don't have a category or have the wrong category\n",
    "            if len(venue['categories']) == 0 : continue\n",
    "                \n",
    "            # Have a category - let's see if it's one that we care about\n",
    "            the_cat = venue['categories'][0]['name']\n",
    "            \n",
    "            # There's not much elegance to the catagory logic so, I just hammered it out in long-hand... \n",
    "            # We have medical venues and food venues - they are treated differently\n",
    "            # So we'll set a flag for each\n",
    "            \n",
    "            # Medical Categories that are relevant\n",
    "            med_keeper = (the_cat in keep_med_cats)\n",
    "            \n",
    "            # Food Catetories that are relevant\n",
    "            food_keeper = ((the_cat.endswith('Restaurant')) or (the_cat == 'Wine Bar') or (the_cat == 'Food')) and (the_cat != 'Fast Food Restaurant')\n",
    "                 \n",
    "            if not ( med_keeper or food_keeper):\n",
    "                continue # We don't have a relevant catagory - move along\n",
    "                \n",
    "            # We have a good category - add it to the list\n",
    "            the_dict[\"Category\"].append(the_cat) \n",
    "            \n",
    "            zip_code = venue['location']['postalCode'] if 'postalCode' in venue['location'] else postal_code\n",
    "            the_dict['ZIP'].append(zip_code)\n",
    "            \n",
    "            the_dict[\"id\"].append(venue[\"id\"])\n",
    "            the_dict[\"Name\"].append(venue[\"name\"])\n",
    "            the_dict[\"Latitude\"].append(venue['location']['lat'])\n",
    "            the_dict[\"Longitude\"].append(venue['location']['lng'])\n",
    "            \n",
    "            price_tier   = np.nan\n",
    "            venue_rating = np.nan\n",
    "            venue_likes  = np.nan\n",
    "\n",
    "            if food_keeper: # We need to get the rating and price range\n",
    "                url = \"https://api.foursquare.com/v2/venues/{}?client_id={}&client_secret={}&v={}\".format(venue[\"id\"],CLIENT_ID, CLIENT_SECRET, VERSION)\n",
    "                # Get a JSON response from FourSquare\n",
    "                premium_calls += 1\n",
    "                results = requests.get(url).json()\n",
    "                \n",
    "                venue = results['response']['venue']\n",
    "                # This is a bit ugly - but only way to check if a \n",
    "                try:\n",
    "                    price_tier = venue['price']['tier']\n",
    "                except KeyError:\n",
    "                    pass\n",
    "                try:\n",
    "                    venue_rating = venue['rating']\n",
    "                except KeyError:\n",
    "                    pass\n",
    "                try:\n",
    "                    venue_likes = venue['likes']['count']\n",
    "                except KeyError:\n",
    "                    pass   \n",
    "                 \n",
    "            the_dict[\"Price Tier\"].append(price_tier)\n",
    "            the_dict[\"Rating\"].append(venue_rating)\n",
    "            the_dict[\"Likes\"].append(venue_likes)\n",
    "            the_dict[\"Search\"].append(search_query)\n",
    "             \n",
    "    print(\"Premium Calls:   {0}\".format(premium_calls))\n",
    "    print(\"Unique Venues:   {0}\".format(unique_venue_hits))\n",
    "    print(\"Duplicate Venus: {0}\".format(duplicate_venue_hits))\n",
    "    return the_dict\n"
   ]
  },
  {
   "cell_type": "code",
   "execution_count": 6,
   "metadata": {},
   "outputs": [
    {
     "name": "stdout",
     "output_type": "stream",
     "text": [
      "Premium Calls:   0\n",
      "Unique Venues:   4058\n",
      "Duplicate Venus: 2529\n",
      "Premium Calls:   1\n",
      "Unique Venues:   6237\n",
      "Duplicate Venus: 919\n",
      "Premium Calls:   0\n",
      "Unique Venues:   656\n",
      "Duplicate Venus: 1628\n"
     ]
    }
   ],
   "source": [
    "venue_dict = get_venues_by_zip(venue_dict, maricopa_zips, \"Hospital\")\n",
    "venue_dict = get_venues_by_zip(venue_dict, maricopa_zips, \"Doctor's Office\")\n",
    "venue_dict = get_venues_by_zip(venue_dict, maricopa_zips, \"Restaurant\")"
   ]
  },
  {
   "cell_type": "code",
   "execution_count": 11,
   "metadata": {},
   "outputs": [],
   "source": [
    "# Persist the venues data set for later...\n",
    "file = open('data/venues.pkl', 'wb')\n",
    "# dump information to that file\n",
    "pickle.dump(venue_dict, file)\n",
    "# close the file\n",
    "file.close()"
   ]
  },
  {
   "cell_type": "code",
   "execution_count": 12,
   "metadata": {},
   "outputs": [],
   "source": [
    "medical_venues_df = pd.DataFrame(data=venue_dict,columns=venue_cols)"
   ]
  },
  {
   "cell_type": "code",
   "execution_count": 13,
   "metadata": {},
   "outputs": [
    {
     "data": {
      "text/html": [
       "<div>\n",
       "<style scoped>\n",
       "    .dataframe tbody tr th:only-of-type {\n",
       "        vertical-align: middle;\n",
       "    }\n",
       "\n",
       "    .dataframe tbody tr th {\n",
       "        vertical-align: top;\n",
       "    }\n",
       "\n",
       "    .dataframe thead th {\n",
       "        text-align: right;\n",
       "    }\n",
       "</style>\n",
       "<table border=\"1\" class=\"dataframe\">\n",
       "  <thead>\n",
       "    <tr style=\"text-align: right;\">\n",
       "      <th></th>\n",
       "      <th>ZIP</th>\n",
       "      <th>id</th>\n",
       "      <th>Name</th>\n",
       "      <th>Latitude</th>\n",
       "      <th>Longitude</th>\n",
       "      <th>Category</th>\n",
       "      <th>Search</th>\n",
       "      <th>Price Tier</th>\n",
       "      <th>Rating</th>\n",
       "      <th>Likes</th>\n",
       "    </tr>\n",
       "  </thead>\n",
       "  <tbody>\n",
       "    <tr>\n",
       "      <th>0</th>\n",
       "      <td>85018</td>\n",
       "      <td>4ebb282fb803cf8e0e7e8871</td>\n",
       "      <td>North Italia</td>\n",
       "      <td>33.509048</td>\n",
       "      <td>-111.994964</td>\n",
       "      <td>Italian Restaurant</td>\n",
       "      <td>Restaurant</td>\n",
       "      <td>3.0</td>\n",
       "      <td>9.2</td>\n",
       "      <td>140.0</td>\n",
       "    </tr>\n",
       "    <tr>\n",
       "      <th>1</th>\n",
       "      <td>85018</td>\n",
       "      <td>5342cc6c498e6451000eb099</td>\n",
       "      <td>Steak 44</td>\n",
       "      <td>33.511357</td>\n",
       "      <td>-111.986222</td>\n",
       "      <td>Restaurant</td>\n",
       "      <td>Restaurant</td>\n",
       "      <td>3.0</td>\n",
       "      <td>9.0</td>\n",
       "      <td>105.0</td>\n",
       "    </tr>\n",
       "    <tr>\n",
       "      <th>2</th>\n",
       "      <td>85018</td>\n",
       "      <td>4b184790f964a52020d023e3</td>\n",
       "      <td>T. Cook's</td>\n",
       "      <td>33.505052</td>\n",
       "      <td>-111.968447</td>\n",
       "      <td>Mediterranean Restaurant</td>\n",
       "      <td>Restaurant</td>\n",
       "      <td>3.0</td>\n",
       "      <td>8.9</td>\n",
       "      <td>57.0</td>\n",
       "    </tr>\n",
       "    <tr>\n",
       "      <th>3</th>\n",
       "      <td>85018</td>\n",
       "      <td>4b25311ff964a520b26d24e3</td>\n",
       "      <td>Tarbell's</td>\n",
       "      <td>33.509227</td>\n",
       "      <td>-112.012379</td>\n",
       "      <td>American Restaurant</td>\n",
       "      <td>Restaurant</td>\n",
       "      <td>4.0</td>\n",
       "      <td>8.8</td>\n",
       "      <td>41.0</td>\n",
       "    </tr>\n",
       "    <tr>\n",
       "      <th>4</th>\n",
       "      <td>85016</td>\n",
       "      <td>4c8eafbd1664b1f76e76a22f</td>\n",
       "      <td>Seasons 52</td>\n",
       "      <td>33.510501</td>\n",
       "      <td>-112.026691</td>\n",
       "      <td>New American Restaurant</td>\n",
       "      <td>Restaurant</td>\n",
       "      <td>3.0</td>\n",
       "      <td>9.1</td>\n",
       "      <td>104.0</td>\n",
       "    </tr>\n",
       "    <tr>\n",
       "      <th>...</th>\n",
       "      <td>...</td>\n",
       "      <td>...</td>\n",
       "      <td>...</td>\n",
       "      <td>...</td>\n",
       "      <td>...</td>\n",
       "      <td>...</td>\n",
       "      <td>...</td>\n",
       "      <td>...</td>\n",
       "      <td>...</td>\n",
       "      <td>...</td>\n",
       "    </tr>\n",
       "    <tr>\n",
       "      <th>412</th>\n",
       "      <td>85251</td>\n",
       "      <td>4e6fab1dfa765666a302c61a</td>\n",
       "      <td>Dr. Johnny Walker's Office</td>\n",
       "      <td>33.488882</td>\n",
       "      <td>-111.915038</td>\n",
       "      <td>Doctor's Office</td>\n",
       "      <td>Doctor's Office</td>\n",
       "      <td>NaN</td>\n",
       "      <td>NaN</td>\n",
       "      <td>NaN</td>\n",
       "    </tr>\n",
       "    <tr>\n",
       "      <th>413</th>\n",
       "      <td>85251</td>\n",
       "      <td>4e8210845503a464d8ff2a92</td>\n",
       "      <td>Dr. Sibley's Office</td>\n",
       "      <td>33.489807</td>\n",
       "      <td>-111.923531</td>\n",
       "      <td>Doctor's Office</td>\n",
       "      <td>Doctor's Office</td>\n",
       "      <td>NaN</td>\n",
       "      <td>NaN</td>\n",
       "      <td>NaN</td>\n",
       "    </tr>\n",
       "    <tr>\n",
       "      <th>414</th>\n",
       "      <td>85251</td>\n",
       "      <td>4d530ad7bd6ff04d2d31020d</td>\n",
       "      <td>Dentist's Office</td>\n",
       "      <td>33.486942</td>\n",
       "      <td>-111.919638</td>\n",
       "      <td>Dentist's Office</td>\n",
       "      <td>Doctor's Office</td>\n",
       "      <td>NaN</td>\n",
       "      <td>NaN</td>\n",
       "      <td>NaN</td>\n",
       "    </tr>\n",
       "    <tr>\n",
       "      <th>415</th>\n",
       "      <td>85006</td>\n",
       "      <td>52d85d0e498e4bedb56bae19</td>\n",
       "      <td>Phoenix childrens hospital emergency</td>\n",
       "      <td>33.478653</td>\n",
       "      <td>-112.039848</td>\n",
       "      <td>Emergency Room</td>\n",
       "      <td>Hospital</td>\n",
       "      <td>NaN</td>\n",
       "      <td>NaN</td>\n",
       "      <td>NaN</td>\n",
       "    </tr>\n",
       "    <tr>\n",
       "      <th>416</th>\n",
       "      <td>85255</td>\n",
       "      <td>4b61f748f964a520fd2d2ae3</td>\n",
       "      <td>P.F. Chang's</td>\n",
       "      <td>33.700208</td>\n",
       "      <td>-111.915681</td>\n",
       "      <td>Chinese Restaurant</td>\n",
       "      <td>Doctor's Office</td>\n",
       "      <td>2.0</td>\n",
       "      <td>7.7</td>\n",
       "      <td>3.0</td>\n",
       "    </tr>\n",
       "  </tbody>\n",
       "</table>\n",
       "<p>417 rows × 10 columns</p>\n",
       "</div>"
      ],
      "text/plain": [
       "       ZIP                        id                                  Name  \\\n",
       "0    85018  4ebb282fb803cf8e0e7e8871                          North Italia   \n",
       "1    85018  5342cc6c498e6451000eb099                              Steak 44   \n",
       "2    85018  4b184790f964a52020d023e3                             T. Cook's   \n",
       "3    85018  4b25311ff964a520b26d24e3                             Tarbell's   \n",
       "4    85016  4c8eafbd1664b1f76e76a22f                            Seasons 52   \n",
       "..     ...                       ...                                   ...   \n",
       "412  85251  4e6fab1dfa765666a302c61a            Dr. Johnny Walker's Office   \n",
       "413  85251  4e8210845503a464d8ff2a92                   Dr. Sibley's Office   \n",
       "414  85251  4d530ad7bd6ff04d2d31020d                      Dentist's Office   \n",
       "415  85006  52d85d0e498e4bedb56bae19  Phoenix childrens hospital emergency   \n",
       "416  85255  4b61f748f964a520fd2d2ae3                          P.F. Chang's   \n",
       "\n",
       "      Latitude   Longitude                  Category           Search  \\\n",
       "0    33.509048 -111.994964        Italian Restaurant       Restaurant   \n",
       "1    33.511357 -111.986222                Restaurant       Restaurant   \n",
       "2    33.505052 -111.968447  Mediterranean Restaurant       Restaurant   \n",
       "3    33.509227 -112.012379       American Restaurant       Restaurant   \n",
       "4    33.510501 -112.026691   New American Restaurant       Restaurant   \n",
       "..         ...         ...                       ...              ...   \n",
       "412  33.488882 -111.915038           Doctor's Office  Doctor's Office   \n",
       "413  33.489807 -111.923531           Doctor's Office  Doctor's Office   \n",
       "414  33.486942 -111.919638          Dentist's Office  Doctor's Office   \n",
       "415  33.478653 -112.039848            Emergency Room         Hospital   \n",
       "416  33.700208 -111.915681        Chinese Restaurant  Doctor's Office   \n",
       "\n",
       "     Price Tier  Rating  Likes  \n",
       "0           3.0     9.2  140.0  \n",
       "1           3.0     9.0  105.0  \n",
       "2           3.0     8.9   57.0  \n",
       "3           4.0     8.8   41.0  \n",
       "4           3.0     9.1  104.0  \n",
       "..          ...     ...    ...  \n",
       "412         NaN     NaN    NaN  \n",
       "413         NaN     NaN    NaN  \n",
       "414         NaN     NaN    NaN  \n",
       "415         NaN     NaN    NaN  \n",
       "416         2.0     7.7    3.0  \n",
       "\n",
       "[417 rows x 10 columns]"
      ]
     },
     "execution_count": 13,
     "metadata": {},
     "output_type": "execute_result"
    }
   ],
   "source": [
    "medical_venues_df"
   ]
  },
  {
   "cell_type": "markdown",
   "metadata": {},
   "source": [
    "medical_venues_df.shape => (415,10) - before first run\n",
    "## Prepare US Census Tables\n",
    "Tables from https://data.census.gov are over 300 columns - of which we require only 6.  In this section we'll clean up "
   ]
  },
  {
   "cell_type": "markdown",
   "metadata": {},
   "source": [
    "### Clean Up the Population By Age Table"
   ]
  },
  {
   "cell_type": "code",
   "execution_count": 14,
   "metadata": {},
   "outputs": [
    {
     "data": {
      "text/plain": [
       "(110, 458)"
      ]
     },
     "execution_count": 14,
     "metadata": {},
     "output_type": "execute_result"
    }
   ],
   "source": [
    "# This table can be downloaded at\n",
    "# https://data.census.gov/cedsci/table?q=All%20County%20Subdivisions%20within%20Arizona&hidePreview=true&tid=ACSST5Y2018.S0101&vintage=2018&layer=VT_2018_860_00_PY_D1&cid=S0101_C01_001E&g=8600000US85027,85023,85022,85306,85053,85310,85308,85382,85024,85050,85032,85254,85260,85054,85381,85351,85335,85363,85345,85304,85029,85051,85302,85021,85020,85028,85253,85251,85016,85014,85015,85013,85012,85017,85019,85301,85303,85305,85307,85309,85392,85035,85257,85018,85009,85031,85033,85037,85256,85250,85258,85034,85008,85006,85007,85003,85004,85043,85041,85353,85323,85338,85395,85204,85286,85248,85048,85226,85044,85042,85040,85282,85281,85205,85207,85140,85212,85296,85284,85283,85249,85203,85213,85215,85259,85201,85202,85224,85225,85233,85234,85206,85210,85209,85208,85295,85297,85298,85379,85375,85373,85383,85268,85255,85339,85355,85388,85374,85340,85387\n",
    "population_by_age_df = pd.read_csv(\"data/ACSST5Y2018.S0101_data_with_overlays_2020-06-27T164439.csv\")\n",
    "population_by_age_df.shape"
   ]
  },
  {
   "cell_type": "markdown",
   "metadata": {},
   "source": [
    "### Drop columns that are not required"
   ]
  },
  {
   "cell_type": "code",
   "execution_count": 15,
   "metadata": {},
   "outputs": [],
   "source": [
    "# These are the columns that are relevant for this investigation\n",
    "keep_cols = [\"Geographic Area Name\",\"Estimate!!Total!!Total population!!AGE!!35 to 39 years\",\"Estimate!!Total!!Total population!!AGE!!40 to 44 years\",\"Estimate!!Total!!Total population!!AGE!!45 to 49 years\",\"Estimate!!Total!!Total population!!AGE!!50 to 55 years\"]\n",
    "\n",
    "# Drop irrelevant column\n",
    "population_by_age_df.drop([col for col in population_by_age_df.columns if col not in keep_cols],axis=1,inplace=True)\n",
    "\n",
    "# ZIP Code is the last 5 digits of Geographic Area Name\n",
    "population_by_age_df[\"Geographic Area Name\"] = population_by_age_df[\"Geographic Area Name\"].str[-5:] "
   ]
  },
  {
   "cell_type": "code",
   "execution_count": 16,
   "metadata": {},
   "outputs": [],
   "source": [
    "# The raw headers are kind of ugly - use this function to clean up (lots of) unnecessary characters\n",
    "def clean_pop_by_age_col_names(the_name):\n",
    "    the_name = the_name.replace(\"Estimate!!Total!!Total population!!AGE!!\", \"\")\n",
    "    the_name = the_name.replace(\"Geographic Area Name\", \"ZIP\")\n",
    "    the_name = the_name.rstrip(\" \")\n",
    "    the_name = the_name.lstrip(\" \")\n",
    "    \n",
    "    return the_name.strip()"
   ]
  },
  {
   "cell_type": "code",
   "execution_count": 17,
   "metadata": {},
   "outputs": [
    {
     "data": {
      "text/plain": [
       "(110, 4)"
      ]
     },
     "execution_count": 17,
     "metadata": {},
     "output_type": "execute_result"
    }
   ],
   "source": [
    "population_by_age_df.rename(columns={x:clean_pop_by_age_col_names(x) for x in population_by_age_df.columns}, inplace=True)\n",
    "population_by_age_df.shape"
   ]
  },
  {
   "cell_type": "code",
   "execution_count": 18,
   "metadata": {},
   "outputs": [
    {
     "data": {
      "text/html": [
       "<div>\n",
       "<style scoped>\n",
       "    .dataframe tbody tr th:only-of-type {\n",
       "        vertical-align: middle;\n",
       "    }\n",
       "\n",
       "    .dataframe tbody tr th {\n",
       "        vertical-align: top;\n",
       "    }\n",
       "\n",
       "    .dataframe thead th {\n",
       "        text-align: right;\n",
       "    }\n",
       "</style>\n",
       "<table border=\"1\" class=\"dataframe\">\n",
       "  <thead>\n",
       "    <tr style=\"text-align: right;\">\n",
       "      <th></th>\n",
       "      <th>ZIP</th>\n",
       "      <th>35 to 39 years</th>\n",
       "      <th>40 to 44 years</th>\n",
       "      <th>45 to 49 years</th>\n",
       "    </tr>\n",
       "  </thead>\n",
       "  <tbody>\n",
       "    <tr>\n",
       "      <th>0</th>\n",
       "      <td>85003</td>\n",
       "      <td>729</td>\n",
       "      <td>798</td>\n",
       "      <td>490</td>\n",
       "    </tr>\n",
       "    <tr>\n",
       "      <th>1</th>\n",
       "      <td>85004</td>\n",
       "      <td>303</td>\n",
       "      <td>284</td>\n",
       "      <td>338</td>\n",
       "    </tr>\n",
       "    <tr>\n",
       "      <th>2</th>\n",
       "      <td>85006</td>\n",
       "      <td>2218</td>\n",
       "      <td>1796</td>\n",
       "      <td>1350</td>\n",
       "    </tr>\n",
       "    <tr>\n",
       "      <th>3</th>\n",
       "      <td>85007</td>\n",
       "      <td>1083</td>\n",
       "      <td>801</td>\n",
       "      <td>769</td>\n",
       "    </tr>\n",
       "    <tr>\n",
       "      <th>4</th>\n",
       "      <td>85008</td>\n",
       "      <td>4108</td>\n",
       "      <td>3725</td>\n",
       "      <td>4147</td>\n",
       "    </tr>\n",
       "  </tbody>\n",
       "</table>\n",
       "</div>"
      ],
      "text/plain": [
       "     ZIP  35 to 39 years  40 to 44 years  45 to 49 years\n",
       "0  85003             729             798             490\n",
       "1  85004             303             284             338\n",
       "2  85006            2218            1796            1350\n",
       "3  85007            1083             801             769\n",
       "4  85008            4108            3725            4147"
      ]
     },
     "execution_count": 18,
     "metadata": {},
     "output_type": "execute_result"
    }
   ],
   "source": [
    "population_by_age_df.head(5)"
   ]
  },
  {
   "cell_type": "markdown",
   "metadata": {},
   "source": [
    "### Clean up Population by age and Education Table"
   ]
  },
  {
   "cell_type": "code",
   "execution_count": 19,
   "metadata": {},
   "outputs": [],
   "source": [
    "# This table may be downloaded at:\n",
    "# https://data.census.gov/cedsci/table?q=All%20County%20Subdivisions%20within%20Arizona&hidePreview=true&tid=ACSST5Y2018.S1501&vintage=2018&layer=VT_2018_860_00_PY_D1&cid=S0101_C01_001E&g=8600000US85027,85023,85022,85306,85053,85310,85308,85382,85024,85050,85032,85254,85260,85054,85381,85351,85335,85363,85345,85304,85029,85051,85302,85021,85020,85028,85253,85251,85016,85014,85015,85013,85012,85017,85019,85301,85303,85305,85307,85309,85392,85035,85257,85018,85009,85031,85033,85037,85256,85250,85258,85034,85008,85006,85007,85003,85004,85043,85041,85353,85323,85338,85395,85204,85286,85248,85048,85226,85044,85042,85040,85282,85281,85205,85207,85140,85212,85296,85284,85283,85249,85203,85213,85215,85259,85201,85202,85224,85225,85233,85234,85206,85210,85209,85208,85295,85297,85298,85379,85375,85373,85383,85268,85255,85339,85355,85388,85374,85340,85387\n",
    "population_by_edu_df = pd.read_csv(\"data/ACSST5Y2018.S1501_data_with_overlays_2020-06-27T233911.csv\")"
   ]
  },
  {
   "cell_type": "code",
   "execution_count": 20,
   "metadata": {},
   "outputs": [],
   "source": [
    "# Same as above, drop the irrelevant columns, and clean up the ugly names\n",
    "keep_cols = [\"Geographic Area Name\",\"Estimate!!Total!!Population 25 years and over!!Population 35 to 44 years!!Bachelor's degree or higher\",\"Estimate!!Total!!Population 25 years and over!!Population 45 to 64 years!!Bachelor's degree or higher\",\"Estimate!!Total!!Population 25 years and over!!Graduate or professional degree\"]\n",
    "\n",
    "# Drop the irrelevant columns\n",
    "population_by_edu_df.drop([col for col in population_by_edu_df.columns if col not in keep_cols],axis=1,inplace=True)\n",
    "\n",
    "# ZIP Code is the last 5 digits of Geographic Area Name\n",
    "population_by_edu_df[\"Geographic Area Name\"] = population_by_edu_df[\"Geographic Area Name\"].str[-5:] "
   ]
  },
  {
   "cell_type": "code",
   "execution_count": 21,
   "metadata": {},
   "outputs": [],
   "source": [
    "def clean_ed_cols(the_name):\n",
    "    the_name = the_name.replace(\"!!\", \" \")\n",
    "    the_name = the_name.replace(\"Estimate\", \"\").strip()\n",
    "    the_name = the_name.replace(\"Population 25 years and over Population\", \"\")\n",
    "    the_name = the_name.replace(\"Geographic Area Name\",\"ZIP\")\n",
    "    the_name = the_name.replace(\"  \", \" \")\n",
    "    \n",
    "    return the_name\n",
    "    \n"
   ]
  },
  {
   "cell_type": "code",
   "execution_count": 22,
   "metadata": {},
   "outputs": [
    {
     "data": {
      "text/html": [
       "<div>\n",
       "<style scoped>\n",
       "    .dataframe tbody tr th:only-of-type {\n",
       "        vertical-align: middle;\n",
       "    }\n",
       "\n",
       "    .dataframe tbody tr th {\n",
       "        vertical-align: top;\n",
       "    }\n",
       "\n",
       "    .dataframe thead th {\n",
       "        text-align: right;\n",
       "    }\n",
       "</style>\n",
       "<table border=\"1\" class=\"dataframe\">\n",
       "  <thead>\n",
       "    <tr style=\"text-align: right;\">\n",
       "      <th></th>\n",
       "      <th>ZIP</th>\n",
       "      <th>Total 35 to 44 years Bachelor's degree or higher</th>\n",
       "      <th>Total 45 to 64 years Bachelor's degree or higher</th>\n",
       "      <th>Total Population 25 years and over Graduate or professional degree</th>\n",
       "    </tr>\n",
       "  </thead>\n",
       "  <tbody>\n",
       "    <tr>\n",
       "      <th>0</th>\n",
       "      <td>85003</td>\n",
       "      <td>670</td>\n",
       "      <td>851</td>\n",
       "      <td>1089</td>\n",
       "    </tr>\n",
       "    <tr>\n",
       "      <th>1</th>\n",
       "      <td>85004</td>\n",
       "      <td>201</td>\n",
       "      <td>536</td>\n",
       "      <td>580</td>\n",
       "    </tr>\n",
       "  </tbody>\n",
       "</table>\n",
       "</div>"
      ],
      "text/plain": [
       "     ZIP  Total 35 to 44 years Bachelor's degree or higher  \\\n",
       "0  85003                                               670   \n",
       "1  85004                                               201   \n",
       "\n",
       "   Total 45 to 64 years Bachelor's degree or higher  \\\n",
       "0                                               851   \n",
       "1                                               536   \n",
       "\n",
       "   Total Population 25 years and over Graduate or professional degree  \n",
       "0                                               1089                   \n",
       "1                                                580                   "
      ]
     },
     "execution_count": 22,
     "metadata": {},
     "output_type": "execute_result"
    }
   ],
   "source": [
    "# Use the function defined above to clean up the column names\n",
    "population_by_edu_df.rename(columns={x:clean_ed_cols(x) for x in population_by_edu_df.columns}, inplace=True)\n",
    "population_by_edu_df.head(2)"
   ]
  },
  {
   "cell_type": "markdown",
   "metadata": {},
   "source": [
    "### Clean-up the IRS/Income Tables"
   ]
  },
  {
   "cell_type": "code",
   "execution_count": 23,
   "metadata": {},
   "outputs": [],
   "source": [
    "# This data is pretty clean - just pull it out of the xlsx\n",
    "# Excel file can be found here:\n",
    "income_by_zip_df = pd.read_excel(\"data/17zp03az.xlsx\", sheet_name=\"Sheet2\",skiprows=3, skipfooter=2,usecols=\"a:d\",names=[\"ZIP\", \"75K to 100K\", \"100K to 200K\", \"Totals\"])"
   ]
  },
  {
   "cell_type": "code",
   "execution_count": 24,
   "metadata": {},
   "outputs": [
    {
     "data": {
      "text/html": [
       "<div>\n",
       "<style scoped>\n",
       "    .dataframe tbody tr th:only-of-type {\n",
       "        vertical-align: middle;\n",
       "    }\n",
       "\n",
       "    .dataframe tbody tr th {\n",
       "        vertical-align: top;\n",
       "    }\n",
       "\n",
       "    .dataframe thead th {\n",
       "        text-align: right;\n",
       "    }\n",
       "</style>\n",
       "<table border=\"1\" class=\"dataframe\">\n",
       "  <thead>\n",
       "    <tr style=\"text-align: right;\">\n",
       "      <th></th>\n",
       "      <th>ZIP</th>\n",
       "      <th>75K to 100K</th>\n",
       "      <th>100K to 200K</th>\n",
       "      <th>Totals</th>\n",
       "    </tr>\n",
       "  </thead>\n",
       "  <tbody>\n",
       "    <tr>\n",
       "      <th>0</th>\n",
       "      <td>85003</td>\n",
       "      <td>340</td>\n",
       "      <td>580</td>\n",
       "      <td>920</td>\n",
       "    </tr>\n",
       "    <tr>\n",
       "      <th>1</th>\n",
       "      <td>85004</td>\n",
       "      <td>300</td>\n",
       "      <td>450</td>\n",
       "      <td>750</td>\n",
       "    </tr>\n",
       "    <tr>\n",
       "      <th>2</th>\n",
       "      <td>85006</td>\n",
       "      <td>470</td>\n",
       "      <td>460</td>\n",
       "      <td>930</td>\n",
       "    </tr>\n",
       "    <tr>\n",
       "      <th>3</th>\n",
       "      <td>85007</td>\n",
       "      <td>280</td>\n",
       "      <td>400</td>\n",
       "      <td>680</td>\n",
       "    </tr>\n",
       "    <tr>\n",
       "      <th>4</th>\n",
       "      <td>85008</td>\n",
       "      <td>940</td>\n",
       "      <td>840</td>\n",
       "      <td>1780</td>\n",
       "    </tr>\n",
       "  </tbody>\n",
       "</table>\n",
       "</div>"
      ],
      "text/plain": [
       "     ZIP  75K to 100K  100K to 200K  Totals\n",
       "0  85003          340           580     920\n",
       "1  85004          300           450     750\n",
       "2  85006          470           460     930\n",
       "3  85007          280           400     680\n",
       "4  85008          940           840    1780"
      ]
     },
     "execution_count": 24,
     "metadata": {},
     "output_type": "execute_result"
    }
   ],
   "source": [
    "income_by_zip_df.head()"
   ]
  },
  {
   "cell_type": "markdown",
   "metadata": {},
   "source": [
    "## Prepare Zillow Data\n",
    "### Clean Up Zillow Data"
   ]
  },
  {
   "cell_type": "code",
   "execution_count": 25,
   "metadata": {},
   "outputs": [],
   "source": [
    "# The Zillow data may be downloaded here:\n",
    "# https://www.zillow.com/research/data/\n",
    "home_values_df = pd.read_csv(\"data/zillow_data.csv\")"
   ]
  },
  {
   "cell_type": "code",
   "execution_count": 26,
   "metadata": {},
   "outputs": [],
   "source": [
    "# Rename to fit our index scheme\n",
    "home_values_df.rename(columns={\"RegionName\":\"ZIP\", \"2020-01-31\":\"Mean Value - Jan 2020\"},inplace=True)"
   ]
  },
  {
   "cell_type": "code",
   "execution_count": 27,
   "metadata": {},
   "outputs": [],
   "source": [
    "# Drop all of the irrelevant values\n",
    "home_values_df = home_values_df.loc[home_values_df['ZIP'].isin(maricopa_zips)]"
   ]
  },
  {
   "cell_type": "code",
   "execution_count": 28,
   "metadata": {},
   "outputs": [],
   "source": [
    "# Same as above, drop the irrelevant columns, and clean up the ugly names\n",
    "keep_cols = ['ZIP','Mean Value - Jan 2020']\n",
    "\n",
    "# Drop the irrelevant columns\n",
    "home_values_df.drop([col for col in home_values_df.columns if col not in keep_cols],axis=1,inplace=True)"
   ]
  },
  {
   "cell_type": "code",
   "execution_count": 29,
   "metadata": {},
   "outputs": [
    {
     "data": {
      "text/html": [
       "<div>\n",
       "<style scoped>\n",
       "    .dataframe tbody tr th:only-of-type {\n",
       "        vertical-align: middle;\n",
       "    }\n",
       "\n",
       "    .dataframe tbody tr th {\n",
       "        vertical-align: top;\n",
       "    }\n",
       "\n",
       "    .dataframe thead th {\n",
       "        text-align: right;\n",
       "    }\n",
       "</style>\n",
       "<table border=\"1\" class=\"dataframe\">\n",
       "  <thead>\n",
       "    <tr style=\"text-align: right;\">\n",
       "      <th></th>\n",
       "      <th>ZIP</th>\n",
       "      <th>Mean Value - Jan 2020</th>\n",
       "    </tr>\n",
       "  </thead>\n",
       "  <tbody>\n",
       "    <tr>\n",
       "      <th>71</th>\n",
       "      <td>85032</td>\n",
       "      <td>287971.0</td>\n",
       "    </tr>\n",
       "    <tr>\n",
       "      <th>107</th>\n",
       "      <td>85281</td>\n",
       "      <td>281139.0</td>\n",
       "    </tr>\n",
       "    <tr>\n",
       "      <th>116</th>\n",
       "      <td>85225</td>\n",
       "      <td>284867.0</td>\n",
       "    </tr>\n",
       "    <tr>\n",
       "      <th>148</th>\n",
       "      <td>85308</td>\n",
       "      <td>309422.0</td>\n",
       "    </tr>\n",
       "    <tr>\n",
       "      <th>300</th>\n",
       "      <td>85142</td>\n",
       "      <td>350664.0</td>\n",
       "    </tr>\n",
       "  </tbody>\n",
       "</table>\n",
       "</div>"
      ],
      "text/plain": [
       "       ZIP  Mean Value - Jan 2020\n",
       "71   85032               287971.0\n",
       "107  85281               281139.0\n",
       "116  85225               284867.0\n",
       "148  85308               309422.0\n",
       "300  85142               350664.0"
      ]
     },
     "execution_count": 29,
     "metadata": {},
     "output_type": "execute_result"
    }
   ],
   "source": [
    "home_values_df.head()"
   ]
  },
  {
   "cell_type": "code",
   "execution_count": null,
   "metadata": {},
   "outputs": [],
   "source": []
  }
 ],
 "metadata": {
  "kernelspec": {
   "display_name": "Python 3",
   "language": "python",
   "name": "python3"
  },
  "language_info": {
   "codemirror_mode": {
    "name": "ipython",
    "version": 3
   },
   "file_extension": ".py",
   "mimetype": "text/x-python",
   "name": "python",
   "nbconvert_exporter": "python",
   "pygments_lexer": "ipython3",
   "version": "3.7.6"
  }
 },
 "nbformat": 4,
 "nbformat_minor": 4
}
